{
  "nbformat": 4,
  "nbformat_minor": 0,
  "metadata": {
    "colab": {
      "provenance": [],
      "gpuType": "T4",
      "authorship_tag": "ABX9TyMQqzhUUpxip3cyMf33wWgg",
      "include_colab_link": true
    },
    "kernelspec": {
      "name": "python3",
      "display_name": "Python 3"
    },
    "language_info": {
      "name": "python"
    },
    "accelerator": "GPU"
  },
  "cells": [
    {
      "cell_type": "markdown",
      "metadata": {
        "id": "view-in-github",
        "colab_type": "text"
      },
      "source": [
        "<a href=\"https://colab.research.google.com/github/alanrbtx/dl_lab1/blob/main/lab1.ipynb\" target=\"_parent\"><img src=\"https://colab.research.google.com/assets/colab-badge.svg\" alt=\"Open In Colab\"/></a>"
      ]
    },
    {
      "cell_type": "markdown",
      "source": [
        "# Download data"
      ],
      "metadata": {
        "id": "wl-L0wTZnkxB"
      }
    },
    {
      "cell_type": "code",
      "execution_count": 1,
      "metadata": {
        "colab": {
          "base_uri": "https://localhost:8080/"
        },
        "id": "ZTZuvWLDnWOQ",
        "outputId": "2cfac682-a4b8-42a6-a921-7e89c3f06b06"
      },
      "outputs": [
        {
          "output_type": "stream",
          "name": "stdout",
          "text": [
            "Mounted at /content/drive\n"
          ]
        }
      ],
      "source": [
        "from google.colab import drive\n",
        "drive.mount('/content/drive')"
      ]
    },
    {
      "cell_type": "code",
      "source": [
        "# https://www.kaggle.com/discussions/general/74235\n",
        "! mkdir ~/.kaggle\n",
        "! cp /content/drive/MyDrive/kaggle.json ~/.kaggle/\n",
        "! chmod 600 ~/.kaggle/kaggle.json\n",
        "! kaggle datasets download -d jessicali9530/stanford-cars-dataset\n",
        "! unzip -q stanford-cars-dataset.zip -d stanford-cars-dataset"
      ],
      "metadata": {
        "colab": {
          "base_uri": "https://localhost:8080/"
        },
        "id": "hQnx5sSqnfHj",
        "outputId": "26500d17-2b4a-4e89-c791-a0c1dfbb19f0"
      },
      "execution_count": 2,
      "outputs": [
        {
          "output_type": "stream",
          "name": "stdout",
          "text": [
            "Downloading stanford-cars-dataset.zip to /content\n",
            "100% 1.82G/1.82G [01:25<00:00, 24.0MB/s]\n",
            "100% 1.82G/1.82G [01:25<00:00, 22.9MB/s]\n"
          ]
        }
      ]
    },
    {
      "cell_type": "code",
      "source": [
        "! mkdir annotations"
      ],
      "metadata": {
        "id": "Lj7LgcpCnhPC"
      },
      "execution_count": 3,
      "outputs": []
    },
    {
      "cell_type": "code",
      "source": [
        "! wget -P annotations/ https://github.com/alanrbtx/dl_lab1/raw/main/annotations/cars_meta.mat\n",
        "! wget -P annotations/ https://github.com/alanrbtx/dl_lab1/raw/main/annotations/cars_train_annos.mat\n",
        "! wget -P annotations/ https://github.com/alanrbtx/dl_lab1/raw/main/annotations/cars_test_annos_withlabels_eval.mat"
      ],
      "metadata": {
        "colab": {
          "base_uri": "https://localhost:8080/"
        },
        "id": "46-SSUE4niZR",
        "outputId": "2c5b7765-ec01-47c3-dd6b-f144e204c1cc"
      },
      "execution_count": 4,
      "outputs": [
        {
          "output_type": "stream",
          "name": "stdout",
          "text": [
            "--2023-11-11 21:10:03--  https://github.com/alanrbtx/dl_lab1/raw/main/annotations/cars_meta.mat\n",
            "Resolving github.com (github.com)... 20.205.243.166\n",
            "Connecting to github.com (github.com)|20.205.243.166|:443... connected.\n",
            "HTTP request sent, awaiting response... 302 Found\n",
            "Location: https://raw.githubusercontent.com/alanrbtx/dl_lab1/main/annotations/cars_meta.mat [following]\n",
            "--2023-11-11 21:10:03--  https://raw.githubusercontent.com/alanrbtx/dl_lab1/main/annotations/cars_meta.mat\n",
            "Resolving raw.githubusercontent.com (raw.githubusercontent.com)... 185.199.108.133, 185.199.109.133, 185.199.110.133, ...\n",
            "Connecting to raw.githubusercontent.com (raw.githubusercontent.com)|185.199.108.133|:443... connected.\n",
            "HTTP request sent, awaiting response... 200 OK\n",
            "Length: 3177 (3.1K) [application/octet-stream]\n",
            "Saving to: ‘annotations/cars_meta.mat’\n",
            "\n",
            "cars_meta.mat       100%[===================>]   3.10K  --.-KB/s    in 0s      \n",
            "\n",
            "2023-11-11 21:10:04 (45.9 MB/s) - ‘annotations/cars_meta.mat’ saved [3177/3177]\n",
            "\n",
            "--2023-11-11 21:10:04--  https://github.com/alanrbtx/dl_lab1/raw/main/annotations/cars_train_annos.mat\n",
            "Resolving github.com (github.com)... 20.205.243.166\n",
            "Connecting to github.com (github.com)|20.205.243.166|:443... connected.\n",
            "HTTP request sent, awaiting response... 302 Found\n",
            "Location: https://raw.githubusercontent.com/alanrbtx/dl_lab1/main/annotations/cars_train_annos.mat [following]\n",
            "--2023-11-11 21:10:04--  https://raw.githubusercontent.com/alanrbtx/dl_lab1/main/annotations/cars_train_annos.mat\n",
            "Resolving raw.githubusercontent.com (raw.githubusercontent.com)... 185.199.108.133, 185.199.109.133, 185.199.110.133, ...\n",
            "Connecting to raw.githubusercontent.com (raw.githubusercontent.com)|185.199.108.133|:443... connected.\n",
            "HTTP request sent, awaiting response... 200 OK\n",
            "Length: 187916 (184K) [application/octet-stream]\n",
            "Saving to: ‘annotations/cars_train_annos.mat’\n",
            "\n",
            "cars_train_annos.ma 100%[===================>] 183.51K  --.-KB/s    in 0.004s  \n",
            "\n",
            "2023-11-11 21:10:04 (40.7 MB/s) - ‘annotations/cars_train_annos.mat’ saved [187916/187916]\n",
            "\n",
            "--2023-11-11 21:10:04--  https://github.com/alanrbtx/dl_lab1/raw/main/annotations/cars_test_annos_withlabels_eval.mat\n",
            "Resolving github.com (github.com)... 20.205.243.166\n",
            "Connecting to github.com (github.com)|20.205.243.166|:443... connected.\n",
            "HTTP request sent, awaiting response... 302 Found\n",
            "Location: https://raw.githubusercontent.com/alanrbtx/dl_lab1/main/annotations/cars_test_annos_withlabels_eval.mat [following]\n",
            "--2023-11-11 21:10:05--  https://raw.githubusercontent.com/alanrbtx/dl_lab1/main/annotations/cars_test_annos_withlabels_eval.mat\n",
            "Resolving raw.githubusercontent.com (raw.githubusercontent.com)... 185.199.108.133, 185.199.109.133, 185.199.110.133, ...\n",
            "Connecting to raw.githubusercontent.com (raw.githubusercontent.com)|185.199.108.133|:443... connected.\n",
            "HTTP request sent, awaiting response... 200 OK\n",
            "Length: 185758 (181K) [application/octet-stream]\n",
            "Saving to: ‘annotations/cars_test_annos_withlabels_eval.mat’\n",
            "\n",
            "cars_test_annos_wit 100%[===================>] 181.40K  --.-KB/s    in 0.003s  \n",
            "\n",
            "2023-11-11 21:10:05 (55.6 MB/s) - ‘annotations/cars_test_annos_withlabels_eval.mat’ saved [185758/185758]\n",
            "\n"
          ]
        }
      ]
    },
    {
      "cell_type": "markdown",
      "source": [
        "# Custom Dataset"
      ],
      "metadata": {
        "id": "hyaDUmiUnm7h"
      }
    },
    {
      "cell_type": "code",
      "source": [
        "from torch.utils.data import Dataset, DataLoader\n",
        "from typing import Callable\n",
        "from scipy.io import loadmat\n",
        "from PIL import Image\n",
        "import os\n",
        "class CarsDataset(Dataset):\n",
        "    def __init__(self, imgs_dir: str, annos_path: str, transforms: Callable = None):\n",
        "        self.imgs_paths = self.__load_imgs_paths(imgs_dir)\n",
        "        self.labels = self.__load_labels(annos_path)\n",
        "        self.transforms = transforms\n",
        "\n",
        "    def __load_imgs_paths(self, dir):\n",
        "        return [os.path.join(dir, filename) for filename in os.listdir(dir) if os.path.isfile(os.path.join(dir, filename))]\n",
        "\n",
        "    def __load_labels(self, path):\n",
        "        mat = loadmat(path)\n",
        "        labels = {}\n",
        "\n",
        "        for arr in mat['annotations'][0]:\n",
        "            filename, label = str(arr[5][0]), int(arr[4][0,0])-1\n",
        "            labels[filename] = label\n",
        "\n",
        "        return labels\n",
        "\n",
        "    def __len__(self):\n",
        "        return len(self.imgs_paths)\n",
        "\n",
        "    def __getitem__(self, index):\n",
        "        img_path = self.imgs_paths[index]\n",
        "        img = Image.open(img_path).convert('RGB')\n",
        "        label = self.labels[os.path.basename(img_path)]\n",
        "\n",
        "        if self.transforms:\n",
        "            img = self.transforms(img)\n",
        "\n",
        "        return img, label"
      ],
      "metadata": {
        "id": "ScwZdTKfnpR8"
      },
      "execution_count": 5,
      "outputs": []
    },
    {
      "cell_type": "code",
      "source": [
        "def load_class_names(path):\n",
        "    return [str(arr[0]) for arr in loadmat(path)['class_names'][0]]"
      ],
      "metadata": {
        "id": "hYzG7pn_nz3A"
      },
      "execution_count": 6,
      "outputs": []
    },
    {
      "cell_type": "code",
      "source": [
        "from torchvision.transforms import v2\n",
        "\n",
        "transforms = v2.Compose([\n",
        "    v2.Resize((227, 227)),\n",
        "    v2.ToTensor(),\n",
        "    v2.Normalize(mean=[0.485, 0.456, 0.406], std=[0.229, 0.224, 0.225]),\n",
        "])"
      ],
      "metadata": {
        "colab": {
          "base_uri": "https://localhost:8080/"
        },
        "id": "ZnX0OeITn7nM",
        "outputId": "a1982312-4564-40ce-f36f-07b2233e15c5"
      },
      "execution_count": 7,
      "outputs": [
        {
          "output_type": "stream",
          "name": "stderr",
          "text": [
            "/usr/local/lib/python3.10/dist-packages/torchvision/transforms/v2/_deprecated.py:43: UserWarning: The transform `ToTensor()` is deprecated and will be removed in a future release. Instead, please use `v2.Compose([v2.ToImage(), v2.ToDtype(torch.float32, scale=True)])`.\n",
            "  warnings.warn(\n"
          ]
        }
      ]
    },
    {
      "cell_type": "code",
      "source": [
        "train_dataset = CarsDataset(imgs_dir = './stanford-cars-dataset/cars_train/cars_train',\n",
        "                            annos_path = './annotations/cars_train_annos.mat',\n",
        "                            transforms = transforms)\n",
        "test_dataset = CarsDataset(imgs_dir = './stanford-cars-dataset/cars_test/cars_test',\n",
        "                           annos_path ='./annotations/cars_test_annos_withlabels_eval.mat',\n",
        "                           transforms = transforms)"
      ],
      "metadata": {
        "id": "r182_CgUoWUN"
      },
      "execution_count": 8,
      "outputs": []
    },
    {
      "cell_type": "code",
      "source": [
        "class_names = load_class_names('./annotations/cars_meta.mat')\n",
        "train_loader = DataLoader(dataset=train_dataset, batch_size=512, shuffle=True)\n",
        "test_loader = DataLoader(dataset=test_dataset, batch_size=512, shuffle=True)"
      ],
      "metadata": {
        "id": "IyFoYkdYoY9_"
      },
      "execution_count": 9,
      "outputs": []
    },
    {
      "cell_type": "markdown",
      "source": [
        "# Train and test loops"
      ],
      "metadata": {
        "id": "9l16LBGPpIUy"
      }
    },
    {
      "cell_type": "code",
      "source": [
        "import torch\n",
        "\n",
        "device = 'cuda' if torch.cuda.is_available() else 'cpu'"
      ],
      "metadata": {
        "id": "85DTAXfjpThD"
      },
      "execution_count": 10,
      "outputs": []
    },
    {
      "cell_type": "code",
      "source": [
        "from tqdm import tqdm\n",
        "\n",
        "def train_one_epoch(model: torch.nn.Module, loader: DataLoader, optimizer, loss_fn):\n",
        "    running_loss = 0.\n",
        "\n",
        "    # training mode\n",
        "    model.train(True)\n",
        "\n",
        "    for i, data in enumerate(tqdm(loader)):\n",
        "        inputs, labels = data\n",
        "\n",
        "        inputs = inputs.to(device)\n",
        "        labels = labels.to(device)\n",
        "\n",
        "        # обнуление градиентов\n",
        "        optimizer.zero_grad()\n",
        "\n",
        "        # предсказание\n",
        "        outputs = model(inputs)\n",
        "\n",
        "        # считаем ошибку и градиенты\n",
        "        loss = loss_fn(outputs, labels)\n",
        "        loss.backward()\n",
        "\n",
        "        # обновление весов\n",
        "        optimizer.step()\n",
        "\n",
        "        running_loss += loss.item()\n",
        "\n",
        "    return running_loss / len(loader)"
      ],
      "metadata": {
        "id": "aGJ37lSJpNmJ"
      },
      "execution_count": 11,
      "outputs": []
    },
    {
      "cell_type": "code",
      "source": [
        "! pip install torcheval"
      ],
      "metadata": {
        "colab": {
          "base_uri": "https://localhost:8080/"
        },
        "id": "HxFCawSHpQI_",
        "outputId": "eaf5cfda-d738-46b6-f50a-dd62832e6b6b"
      },
      "execution_count": 12,
      "outputs": [
        {
          "output_type": "stream",
          "name": "stdout",
          "text": [
            "Collecting torcheval\n",
            "  Downloading torcheval-0.0.7-py3-none-any.whl (179 kB)\n",
            "\u001b[2K     \u001b[90m━━━━━━━━━━━━━━━━━━━━━━━━━━━━━━━━━━━━━━━━\u001b[0m \u001b[32m179.2/179.2 kB\u001b[0m \u001b[31m4.3 MB/s\u001b[0m eta \u001b[36m0:00:00\u001b[0m\n",
            "\u001b[?25hRequirement already satisfied: typing-extensions in /usr/local/lib/python3.10/dist-packages (from torcheval) (4.5.0)\n",
            "Installing collected packages: torcheval\n",
            "Successfully installed torcheval-0.0.7\n"
          ]
        }
      ]
    },
    {
      "cell_type": "code",
      "source": [
        "from torcheval.metrics.functional import multiclass_f1_score, multiclass_accuracy\n",
        "\n",
        "def validate(model, loader, loss_fn):\n",
        "    running_vloss = 0.0\n",
        "    pred_labels_ids = torch.Tensor().type(torch.int64)\n",
        "    true_labels_ids = torch.Tensor().type(torch.int64)\n",
        "\n",
        "    # evaluation mode\n",
        "    model.eval()\n",
        "\n",
        "    # disable gradient computation\n",
        "    with torch.no_grad():\n",
        "        for i, vdata in enumerate(loader):\n",
        "            vinputs, vlabels = vdata\n",
        "\n",
        "            vinputs = vinputs.to(device)\n",
        "            vlabels = vlabels.to(device)\n",
        "\n",
        "            voutputs = model(vinputs)\n",
        "            vloss = loss_fn(voutputs, vlabels)\n",
        "\n",
        "            running_vloss += vloss.item()\n",
        "            true_labels_ids = torch.cat((true_labels_ids, vlabels.cpu().squeeze()))\n",
        "            pred_labels_ids = torch.cat((pred_labels_ids, voutputs.cpu().argmax(dim=-1, keepdim=False)))\n",
        "\n",
        "    # compute loss and metrics\n",
        "    avg_vloss = running_vloss / len(loader)\n",
        "    accuracy = multiclass_accuracy(pred_labels_ids, true_labels_ids)\n",
        "    f1 = multiclass_f1_score(pred_labels_ids, true_labels_ids, num_classes=len(class_names), average='weighted')\n",
        "    f1_macro = multiclass_f1_score(pred_labels_ids, true_labels_ids, num_classes=len(class_names), average='macro')\n",
        "\n",
        "    return avg_vloss, accuracy.detach().numpy(), f1.detach().numpy(), f1_macro.detach().numpy()"
      ],
      "metadata": {
        "id": "kpd5MX7apRm1"
      },
      "execution_count": 13,
      "outputs": []
    },
    {
      "cell_type": "code",
      "source": [
        "def train_loop(model, train_loader, test_loader, optimizer, loss_fn, prefix, epochs=10):\n",
        "    best_vloss = 1e10\n",
        "\n",
        "    history = {'Train loss': [], 'Valid loss': [], 'Accuracy': [], 'F1': [], 'F1 macro': []}\n",
        "\n",
        "    for epoch_number in range(epochs):\n",
        "        print(f'\\nEpoch {epoch_number+1}:')\n",
        "\n",
        "        avg_loss = train_one_epoch(model, train_loader, optimizer, loss_fn)\n",
        "        avg_vloss, accuracy, f1, f1_macro = validate(model, test_loader, loss_fn)\n",
        "\n",
        "        print('\\n\\U0001f600 LOSS train: {} valid {}'.format(avg_loss, avg_vloss))\n",
        "        print('Accuracy:', accuracy)\n",
        "        print('F1:', f1)\n",
        "        print('F1 macro:', f1_macro)\n",
        "\n",
        "        history['Train loss'].append(avg_loss)\n",
        "        history['Valid loss'].append(avg_vloss)\n",
        "        history['Accuracy'].append(accuracy)\n",
        "        history['F1'].append(f1)\n",
        "        history['F1 macro'].append(f1_macro)\n",
        "\n",
        "        # save best model\n",
        "        if avg_vloss < best_vloss:\n",
        "            best_vloss = avg_vloss\n",
        "            model_path = f'{prefix}_{epoch_number+1}'\n",
        "            torch.save(model.state_dict(), model_path)\n",
        "\n",
        "    return history"
      ],
      "metadata": {
        "id": "kB4knpQ0sFCf"
      },
      "execution_count": 14,
      "outputs": []
    },
    {
      "cell_type": "code",
      "source": [
        "import matplotlib.pyplot as plt\n",
        "\n",
        "def plot_history(history):\n",
        "    plt.plot(history['Train loss'])\n",
        "    plt.plot(history['Valid loss'])\n",
        "    plt.title('model loss')\n",
        "    plt.ylabel('loss')\n",
        "    plt.xlabel('epoch')\n",
        "    plt.legend(['train', 'val'], loc='upper left')\n",
        "    plt.show()\n",
        "\n",
        "    plt.plot(history['Accuracy'])\n",
        "    plt.plot(history['F1'])\n",
        "    plt.plot(history['F1 macro'])\n",
        "    plt.title('metrics')\n",
        "    plt.ylabel('metrics')\n",
        "    plt.xlabel('epoch')\n",
        "    plt.legend(['Accuracy', 'F1', 'F1 macro'], loc='upper left')\n",
        "    plt.show()"
      ],
      "metadata": {
        "id": "-6W98zSPppGy"
      },
      "execution_count": 15,
      "outputs": []
    },
    {
      "cell_type": "markdown",
      "source": [
        "# Model"
      ],
      "metadata": {
        "id": "PyodxomgqOAk"
      }
    },
    {
      "cell_type": "code",
      "source": [
        "import torch\n",
        "\n",
        "class AlexNet(torch.nn.Module):\n",
        "    def __init__(self, num_classes):\n",
        "        super().__init__()\n",
        "        self.conv_stack = torch.nn.Sequential(\n",
        "            torch.nn.Conv2d(3, 96, kernel_size=11, stride=4),\n",
        "            torch.nn.ReLU(inplace=True),\n",
        "            torch.nn.MaxPool2d(kernel_size=3, stride=2, padding=0, dilation=1, ceil_mode=False),\n",
        "            torch.nn.Conv2d(96, 256, 5, stride=1, padding=2),\n",
        "            torch.nn.MaxPool2d(kernel_size=3, stride=2, padding=0, dilation=1, ceil_mode=False),\n",
        "            torch.nn.Conv2d(256, 384, kernel_size=3, stride=1, padding=1),\n",
        "            torch.nn.ReLU(inplace=True),\n",
        "            torch.nn.Conv2d(384, 384, kernel_size=3, stride=1, padding=1),\n",
        "            torch.nn.ReLU(inplace=True),\n",
        "            torch.nn.Conv2d(384, 256, kernel_size=3, stride=1, padding=1),\n",
        "            torch.nn.ReLU(inplace=True),\n",
        "            torch.nn.MaxPool2d(kernel_size=3, stride=2, padding=0, dilation=1, ceil_mode=False)\n",
        "        )\n",
        "\n",
        "        self.flatten = torch.nn.Flatten()\n",
        "\n",
        "        self.classification_head = torch.nn.Sequential(\n",
        "            torch.nn.Dropout(p=0.5, inplace=False),\n",
        "            torch.nn.Linear(9216, 4096),\n",
        "            torch.nn.ReLU(inplace=True),\n",
        "            torch.nn.Dropout(p=0.5, inplace=False),\n",
        "            torch.nn.Linear(4096, 4096),\n",
        "            torch.nn.ReLU(inplace=True),\n",
        "            torch.nn.Linear(4096, num_classes)\n",
        "        )\n",
        "\n",
        "    def forward(self, x):\n",
        "        x = self.conv_stack(x)\n",
        "        x = self.flatten(x)\n",
        "        x = self.classification_head(x)\n",
        "        return x"
      ],
      "metadata": {
        "id": "VMFSVPcZqPRG"
      },
      "execution_count": 16,
      "outputs": []
    },
    {
      "cell_type": "markdown",
      "source": [
        "# Training"
      ],
      "metadata": {
        "id": "2_7vXt9eqhKz"
      }
    },
    {
      "cell_type": "code",
      "source": [
        "model = AlexNet(len(class_names)).to(device)\n",
        "ce = torch.nn.CrossEntropyLoss()\n",
        "adam = torch.optim.Adam(model.parameters(), lr=0.0005)\n",
        "history = train_loop(model, train_loader, test_loader, adam, ce, 'alexnet_adam', 20)\n",
        "plot_history(history)"
      ],
      "metadata": {
        "colab": {
          "base_uri": "https://localhost:8080/",
          "height": 1000
        },
        "id": "42lRpvN8qgKE",
        "outputId": "cb38098f-ed26-41d5-cc5f-5e2728704dd2"
      },
      "execution_count": 17,
      "outputs": [
        {
          "output_type": "stream",
          "name": "stdout",
          "text": [
            "\n",
            "Epoch 1:\n"
          ]
        },
        {
          "output_type": "stream",
          "name": "stderr",
          "text": [
            "100%|██████████| 16/16 [01:36<00:00,  6.05s/it]\n"
          ]
        },
        {
          "output_type": "stream",
          "name": "stdout",
          "text": [
            "\n",
            "😀 LOSS train: 5.282082557678223 valid 5.276631742715836\n",
            "Accuracy: 0.0084566595\n",
            "F1: 0.00014183077\n",
            "F1 macro: 8.556881e-05\n",
            "\n",
            "Epoch 2:\n"
          ]
        },
        {
          "output_type": "stream",
          "name": "stderr",
          "text": [
            "100%|██████████| 16/16 [01:21<00:00,  5.09s/it]\n"
          ]
        },
        {
          "output_type": "stream",
          "name": "stdout",
          "text": [
            "\n",
            "😀 LOSS train: 5.280161947011948 valid 5.276241183280945\n",
            "Accuracy: 0.0084566595\n",
            "F1: 0.00014183077\n",
            "F1 macro: 8.556881e-05\n",
            "\n",
            "Epoch 3:\n"
          ]
        },
        {
          "output_type": "stream",
          "name": "stderr",
          "text": [
            "100%|██████████| 16/16 [01:33<00:00,  5.85s/it]\n"
          ]
        },
        {
          "output_type": "stream",
          "name": "stdout",
          "text": [
            "\n",
            "😀 LOSS train: 5.277574867010117 valid 5.275345116853714\n",
            "Accuracy: 0.0084566595\n",
            "F1: 0.00014183077\n",
            "F1 macro: 8.556881e-05\n",
            "\n",
            "Epoch 4:\n"
          ]
        },
        {
          "output_type": "stream",
          "name": "stderr",
          "text": [
            "100%|██████████| 16/16 [01:21<00:00,  5.12s/it]\n"
          ]
        },
        {
          "output_type": "stream",
          "name": "stdout",
          "text": [
            "\n",
            "😀 LOSS train: 5.24630931019783 valid 5.218233734369278\n",
            "Accuracy: 0.01268499\n",
            "F1: 0.00084573135\n",
            "F1 macro: 0.0007721673\n",
            "\n",
            "Epoch 5:\n"
          ]
        },
        {
          "output_type": "stream",
          "name": "stderr",
          "text": [
            "100%|██████████| 16/16 [01:19<00:00,  4.95s/it]\n"
          ]
        },
        {
          "output_type": "stream",
          "name": "stdout",
          "text": [
            "\n",
            "😀 LOSS train: 5.195437848567963 valid 5.167781502008438\n",
            "Accuracy: 0.009700286\n",
            "F1: 0.00034834445\n",
            "F1 macro: 0.0002860793\n",
            "\n",
            "Epoch 6:\n"
          ]
        },
        {
          "output_type": "stream",
          "name": "stderr",
          "text": [
            "100%|██████████| 16/16 [01:20<00:00,  5.01s/it]\n"
          ]
        },
        {
          "output_type": "stream",
          "name": "stdout",
          "text": [
            "\n",
            "😀 LOSS train: 5.149523615837097 valid 5.14054998755455\n",
            "Accuracy: 0.0125606265\n",
            "F1: 0.00093743426\n",
            "F1 macro: 0.0008316436\n",
            "\n",
            "Epoch 7:\n"
          ]
        },
        {
          "output_type": "stream",
          "name": "stderr",
          "text": [
            "100%|██████████| 16/16 [01:19<00:00,  4.98s/it]\n"
          ]
        },
        {
          "output_type": "stream",
          "name": "stdout",
          "text": [
            "\n",
            "😀 LOSS train: 5.127253919839859 valid 5.123828858137131\n",
            "Accuracy: 0.012436264\n",
            "F1: 0.0014892208\n",
            "F1 macro: 0.0013534874\n",
            "\n",
            "Epoch 8:\n"
          ]
        },
        {
          "output_type": "stream",
          "name": "stderr",
          "text": [
            "100%|██████████| 16/16 [01:20<00:00,  5.01s/it]\n"
          ]
        },
        {
          "output_type": "stream",
          "name": "stdout",
          "text": [
            "\n",
            "😀 LOSS train: 5.103567063808441 valid 5.118715763092041\n",
            "Accuracy: 0.013058078\n",
            "F1: 0.001936128\n",
            "F1 macro: 0.0017918479\n",
            "\n",
            "Epoch 9:\n"
          ]
        },
        {
          "output_type": "stream",
          "name": "stderr",
          "text": [
            "100%|██████████| 16/16 [01:20<00:00,  5.04s/it]\n"
          ]
        },
        {
          "output_type": "stream",
          "name": "stdout",
          "text": [
            "\n",
            "😀 LOSS train: 5.08342319726944 valid 5.113843202590942\n",
            "Accuracy: 0.015794056\n",
            "F1: 0.0032543128\n",
            "F1 macro: 0.003014289\n",
            "\n",
            "Epoch 10:\n"
          ]
        },
        {
          "output_type": "stream",
          "name": "stderr",
          "text": [
            "100%|██████████| 16/16 [01:19<00:00,  4.98s/it]\n"
          ]
        },
        {
          "output_type": "stream",
          "name": "stdout",
          "text": [
            "\n",
            "😀 LOSS train: 5.0578140914440155 valid 5.096773475408554\n",
            "Accuracy: 0.014674792\n",
            "F1: 0.0036373758\n",
            "F1 macro: 0.003546218\n",
            "\n",
            "Epoch 11:\n"
          ]
        },
        {
          "output_type": "stream",
          "name": "stderr",
          "text": [
            "100%|██████████| 16/16 [01:20<00:00,  5.00s/it]\n"
          ]
        },
        {
          "output_type": "stream",
          "name": "stdout",
          "text": [
            "\n",
            "😀 LOSS train: 5.033122539520264 valid 5.106125742197037\n",
            "Accuracy: 0.016664594\n",
            "F1: 0.00485571\n",
            "F1 macro: 0.0046809153\n",
            "\n",
            "Epoch 12:\n"
          ]
        },
        {
          "output_type": "stream",
          "name": "stderr",
          "text": [
            "100%|██████████| 16/16 [01:19<00:00,  4.97s/it]\n"
          ]
        },
        {
          "output_type": "stream",
          "name": "stdout",
          "text": [
            "\n",
            "😀 LOSS train: 5.004753947257996 valid 5.095382332801819\n",
            "Accuracy: 0.019898023\n",
            "F1: 0.0071028797\n",
            "F1 macro: 0.006844569\n",
            "\n",
            "Epoch 13:\n"
          ]
        },
        {
          "output_type": "stream",
          "name": "stderr",
          "text": [
            "100%|██████████| 16/16 [01:19<00:00,  4.97s/it]\n"
          ]
        },
        {
          "output_type": "stream",
          "name": "stdout",
          "text": [
            "\n",
            "😀 LOSS train: 4.95330935716629 valid 5.081518709659576\n",
            "Accuracy: 0.019400572\n",
            "F1: 0.008941638\n",
            "F1 macro: 0.008992198\n",
            "\n",
            "Epoch 14:\n"
          ]
        },
        {
          "output_type": "stream",
          "name": "stderr",
          "text": [
            "100%|██████████| 16/16 [01:18<00:00,  4.88s/it]\n"
          ]
        },
        {
          "output_type": "stream",
          "name": "stdout",
          "text": [
            "\n",
            "😀 LOSS train: 4.909438073635101 valid 5.07598814368248\n",
            "Accuracy: 0.02300709\n",
            "F1: 0.013125086\n",
            "F1 macro: 0.013087039\n",
            "\n",
            "Epoch 15:\n"
          ]
        },
        {
          "output_type": "stream",
          "name": "stderr",
          "text": [
            "100%|██████████| 16/16 [01:18<00:00,  4.91s/it]\n"
          ]
        },
        {
          "output_type": "stream",
          "name": "stdout",
          "text": [
            "\n",
            "😀 LOSS train: 4.816748082637787 valid 5.0768826603889465\n",
            "Accuracy: 0.025867429\n",
            "F1: 0.01585965\n",
            "F1 macro: 0.016041746\n",
            "\n",
            "Epoch 16:\n"
          ]
        },
        {
          "output_type": "stream",
          "name": "stderr",
          "text": [
            "100%|██████████| 16/16 [01:19<00:00,  4.95s/it]\n"
          ]
        },
        {
          "output_type": "stream",
          "name": "stdout",
          "text": [
            "\n",
            "😀 LOSS train: 4.707135945558548 valid 5.068929880857468\n",
            "Accuracy: 0.031339385\n",
            "F1: 0.019500868\n",
            "F1 macro: 0.019714374\n",
            "\n",
            "Epoch 17:\n"
          ]
        },
        {
          "output_type": "stream",
          "name": "stderr",
          "text": [
            "100%|██████████| 16/16 [01:19<00:00,  4.99s/it]\n"
          ]
        },
        {
          "output_type": "stream",
          "name": "stdout",
          "text": [
            "\n",
            "😀 LOSS train: 4.578360915184021 valid 5.088749200105667\n",
            "Accuracy: 0.031712472\n",
            "F1: 0.01898988\n",
            "F1 macro: 0.018920546\n",
            "\n",
            "Epoch 18:\n"
          ]
        },
        {
          "output_type": "stream",
          "name": "stderr",
          "text": [
            "100%|██████████| 16/16 [01:20<00:00,  5.04s/it]\n"
          ]
        },
        {
          "output_type": "stream",
          "name": "stdout",
          "text": [
            "\n",
            "😀 LOSS train: 4.452737271785736 valid 5.124707102775574\n",
            "Accuracy: 0.03469718\n",
            "F1: 0.025873624\n",
            "F1 macro: 0.025791036\n",
            "\n",
            "Epoch 19:\n"
          ]
        },
        {
          "output_type": "stream",
          "name": "stderr",
          "text": [
            "100%|██████████| 16/16 [01:20<00:00,  5.01s/it]\n"
          ]
        },
        {
          "output_type": "stream",
          "name": "stdout",
          "text": [
            "\n",
            "😀 LOSS train: 4.2501237988471985 valid 5.16284641623497\n",
            "Accuracy: 0.03681134\n",
            "F1: 0.028708179\n",
            "F1 macro: 0.029415544\n",
            "\n",
            "Epoch 20:\n"
          ]
        },
        {
          "output_type": "stream",
          "name": "stderr",
          "text": [
            "100%|██████████| 16/16 [01:20<00:00,  5.01s/it]\n"
          ]
        },
        {
          "output_type": "stream",
          "name": "stdout",
          "text": [
            "\n",
            "😀 LOSS train: 3.9788946211338043 valid 5.2821460366249084\n",
            "Accuracy: 0.042532023\n",
            "F1: 0.03531921\n",
            "F1 macro: 0.036144428\n"
          ]
        },
        {
          "output_type": "display_data",
          "data": {
            "text/plain": [
              "<Figure size 640x480 with 1 Axes>"
            ],
            "image/png": "[encoded data removed]"
          },
          "metadata": {}
        },
        {
          "output_type": "display_data",
          "data": {
            "text/plain": [
              "<Figure size 640x480 with 1 Axes>"
            ],
            "image/png": "[encoded data removed]"
          },
          "metadata": {}
        }
      ]
    },
    {
      "cell_type": "code",
      "source": [
        "! pip install pytorch_optimizer"
      ],
      "metadata": {
        "colab": {
          "base_uri": "https://localhost:8080/"
        },
        "id": "vpiT5J2wMMwa",
        "outputId": "9ece2fb7-7a3f-48ab-9983-c18734f4e516"
      },
      "execution_count": 18,
      "outputs": [
        {
          "output_type": "stream",
          "name": "stdout",
          "text": [
            "Collecting pytorch_optimizer\n",
            "  Downloading pytorch_optimizer-2.12.0-py3-none-any.whl (155 kB)\n",
            "\u001b[2K     \u001b[90m━━━━━━━━━━━━━━━━━━━━━━━━━━━━━━━━━━━━━━━━\u001b[0m \u001b[32m155.8/155.8 kB\u001b[0m \u001b[31m2.4 MB/s\u001b[0m eta \u001b[36m0:00:00\u001b[0m\n",
            "\u001b[?25hRequirement already satisfied: numpy in /usr/local/lib/python3.10/dist-packages (from pytorch_optimizer) (1.23.5)\n",
            "Requirement already satisfied: torch>=1.10 in /usr/local/lib/python3.10/dist-packages (from pytorch_optimizer) (2.1.0+cu118)\n",
            "Requirement already satisfied: filelock in /usr/local/lib/python3.10/dist-packages (from torch>=1.10->pytorch_optimizer) (3.13.1)\n",
            "Requirement already satisfied: typing-extensions in /usr/local/lib/python3.10/dist-packages (from torch>=1.10->pytorch_optimizer) (4.5.0)\n",
            "Requirement already satisfied: sympy in /usr/local/lib/python3.10/dist-packages (from torch>=1.10->pytorch_optimizer) (1.12)\n",
            "Requirement already satisfied: networkx in /usr/local/lib/python3.10/dist-packages (from torch>=1.10->pytorch_optimizer) (3.2.1)\n",
            "Requirement already satisfied: jinja2 in /usr/local/lib/python3.10/dist-packages (from torch>=1.10->pytorch_optimizer) (3.1.2)\n",
            "Requirement already satisfied: fsspec in /usr/local/lib/python3.10/dist-packages (from torch>=1.10->pytorch_optimizer) (2023.6.0)\n",
            "Requirement already satisfied: triton==2.1.0 in /usr/local/lib/python3.10/dist-packages (from torch>=1.10->pytorch_optimizer) (2.1.0)\n",
            "Requirement already satisfied: MarkupSafe>=2.0 in /usr/local/lib/python3.10/dist-packages (from jinja2->torch>=1.10->pytorch_optimizer) (2.1.3)\n",
            "Requirement already satisfied: mpmath>=0.19 in /usr/local/lib/python3.10/dist-packages (from sympy->torch>=1.10->pytorch_optimizer) (1.3.0)\n",
            "Installing collected packages: pytorch_optimizer\n",
            "Successfully installed pytorch_optimizer-2.12.0\n"
          ]
        }
      ]
    },
    {
      "cell_type": "code",
      "source": [
        "import pytorch_optimizer\n",
        "\n",
        "model = AlexNet(len(class_names)).to(device)\n",
        "ce = torch.nn.CrossEntropyLoss()\n",
        "adasmooth = pytorch_optimizer.AdaSmooth(model.parameters(), lr = 0.0005)\n",
        "history = train_loop(model, train_loader, test_loader, adasmooth, ce, 'alexnet_adasmooth', 20)\n",
        "plot_history(history)"
      ],
      "metadata": {
        "colab": {
          "base_uri": "https://localhost:8080/",
          "height": 1000
        },
        "id": "kd4L1guzML2R",
        "outputId": "5fcca579-8321-4cdc-ee6c-696f218888be"
      },
      "execution_count": 19,
      "outputs": [
        {
          "output_type": "stream",
          "name": "stdout",
          "text": [
            "\n",
            "Epoch 1:\n"
          ]
        },
        {
          "output_type": "stream",
          "name": "stderr",
          "text": [
            "100%|██████████| 16/16 [01:33<00:00,  5.82s/it]\n"
          ]
        },
        {
          "output_type": "stream",
          "name": "stdout",
          "text": [
            "\n",
            "😀 LOSS train: 5.278883248567581 valid 5.277271240949631\n",
            "Accuracy: 0.0084566595\n",
            "F1: 0.00014183077\n",
            "F1 macro: 8.556881e-05\n",
            "\n",
            "Epoch 2:\n"
          ]
        },
        {
          "output_type": "stream",
          "name": "stderr",
          "text": [
            "100%|██████████| 16/16 [01:21<00:00,  5.07s/it]\n"
          ]
        },
        {
          "output_type": "stream",
          "name": "stdout",
          "text": [
            "\n",
            "😀 LOSS train: 5.277794271707535 valid 5.276383578777313\n",
            "Accuracy: 0.0084566595\n",
            "F1: 0.00014183077\n",
            "F1 macro: 8.556881e-05\n",
            "\n",
            "Epoch 3:\n"
          ]
        },
        {
          "output_type": "stream",
          "name": "stderr",
          "text": [
            "100%|██████████| 16/16 [01:20<00:00,  5.03s/it]\n"
          ]
        },
        {
          "output_type": "stream",
          "name": "stdout",
          "text": [
            "\n",
            "😀 LOSS train: 5.2771309316158295 valid 5.275220185518265\n",
            "Accuracy: 0.0084566595\n",
            "F1: 0.00014183077\n",
            "F1 macro: 8.556881e-05\n",
            "\n",
            "Epoch 4:\n"
          ]
        },
        {
          "output_type": "stream",
          "name": "stderr",
          "text": [
            "100%|██████████| 16/16 [01:20<00:00,  5.06s/it]\n"
          ]
        },
        {
          "output_type": "stream",
          "name": "stdout",
          "text": [
            "\n",
            "😀 LOSS train: 5.276533156633377 valid 5.274527311325073\n",
            "Accuracy: 0.0084566595\n",
            "F1: 0.00014183077\n",
            "F1 macro: 8.556881e-05\n",
            "\n",
            "Epoch 5:\n"
          ]
        },
        {
          "output_type": "stream",
          "name": "stderr",
          "text": [
            "100%|██████████| 16/16 [01:21<00:00,  5.08s/it]\n"
          ]
        },
        {
          "output_type": "stream",
          "name": "stdout",
          "text": [
            "\n",
            "😀 LOSS train: 5.2745263278484344 valid 5.270900845527649\n",
            "Accuracy: 0.0084566595\n",
            "F1: 0.00014183077\n",
            "F1 macro: 8.556881e-05\n",
            "\n",
            "Epoch 6:\n"
          ]
        },
        {
          "output_type": "stream",
          "name": "stderr",
          "text": [
            "100%|██████████| 16/16 [01:21<00:00,  5.07s/it]\n"
          ]
        },
        {
          "output_type": "stream",
          "name": "stdout",
          "text": [
            "\n",
            "😀 LOSS train: 5.272790223360062 valid 5.264888793230057\n",
            "Accuracy: 0.0084566595\n",
            "F1: 0.00014183077\n",
            "F1 macro: 8.556881e-05\n",
            "\n",
            "Epoch 7:\n"
          ]
        },
        {
          "output_type": "stream",
          "name": "stderr",
          "text": [
            "100%|██████████| 16/16 [01:21<00:00,  5.07s/it]\n"
          ]
        },
        {
          "output_type": "stream",
          "name": "stdout",
          "text": [
            "\n",
            "😀 LOSS train: 5.265065938234329 valid 5.247581779956818\n",
            "Accuracy: 0.0103221\n",
            "F1: 0.0005586051\n",
            "F1 macro: 0.00045193467\n",
            "\n",
            "Epoch 8:\n"
          ]
        },
        {
          "output_type": "stream",
          "name": "stderr",
          "text": [
            "100%|██████████| 16/16 [01:21<00:00,  5.07s/it]\n"
          ]
        },
        {
          "output_type": "stream",
          "name": "stdout",
          "text": [
            "\n",
            "😀 LOSS train: 5.2672019302845 valid 5.250546306371689\n",
            "Accuracy: 0.008332297\n",
            "F1: 0.00079045305\n",
            "F1 macro: 0.00075170305\n",
            "\n",
            "Epoch 9:\n"
          ]
        },
        {
          "output_type": "stream",
          "name": "stderr",
          "text": [
            "100%|██████████| 16/16 [01:20<00:00,  5.06s/it]\n"
          ]
        },
        {
          "output_type": "stream",
          "name": "stdout",
          "text": [
            "\n",
            "😀 LOSS train: 5.261943697929382 valid 5.259131342172623\n",
            "Accuracy: 0.009575923\n",
            "F1: 0.0009757506\n",
            "F1 macro: 0.0009728719\n",
            "\n",
            "Epoch 10:\n"
          ]
        },
        {
          "output_type": "stream",
          "name": "stderr",
          "text": [
            "100%|██████████| 16/16 [01:21<00:00,  5.09s/it]\n"
          ]
        },
        {
          "output_type": "stream",
          "name": "stdout",
          "text": [
            "\n",
            "😀 LOSS train: 5.243770211935043 valid 5.262002170085907\n",
            "Accuracy: 0.0098246485\n",
            "F1: 0.0006799724\n",
            "F1 macro: 0.00061747705\n",
            "\n",
            "Epoch 11:\n"
          ]
        },
        {
          "output_type": "stream",
          "name": "stderr",
          "text": [
            "100%|██████████| 16/16 [01:20<00:00,  5.05s/it]\n"
          ]
        },
        {
          "output_type": "stream",
          "name": "stdout",
          "text": [
            "\n",
            "😀 LOSS train: 5.234769850969315 valid 5.223599344491959\n",
            "Accuracy: 0.011690089\n",
            "F1: 0.0016252061\n",
            "F1 macro: 0.0015833118\n",
            "\n",
            "Epoch 12:\n"
          ]
        },
        {
          "output_type": "stream",
          "name": "stderr",
          "text": [
            "100%|██████████| 16/16 [01:21<00:00,  5.07s/it]\n"
          ]
        },
        {
          "output_type": "stream",
          "name": "stdout",
          "text": [
            "\n",
            "😀 LOSS train: 5.24245223402977 valid 5.267062395811081\n",
            "Accuracy: 0.007337396\n",
            "F1: 0.0009657224\n",
            "F1 macro: 0.0008747109\n",
            "\n",
            "Epoch 13:\n"
          ]
        },
        {
          "output_type": "stream",
          "name": "stderr",
          "text": [
            "100%|██████████| 16/16 [01:21<00:00,  5.07s/it]\n"
          ]
        },
        {
          "output_type": "stream",
          "name": "stdout",
          "text": [
            "\n",
            "😀 LOSS train: 5.233883649110794 valid 5.198291718959808\n",
            "Accuracy: 0.014799154\n",
            "F1: 0.002759953\n",
            "F1 macro: 0.0027998744\n",
            "\n",
            "Epoch 14:\n"
          ]
        },
        {
          "output_type": "stream",
          "name": "stderr",
          "text": [
            "100%|██████████| 16/16 [01:20<00:00,  5.04s/it]\n"
          ]
        },
        {
          "output_type": "stream",
          "name": "stdout",
          "text": [
            "\n",
            "😀 LOSS train: 5.234478116035461 valid 5.258990913629532\n",
            "Accuracy: 0.01268499\n",
            "F1: 0.001505935\n",
            "F1 macro: 0.0014221185\n",
            "\n",
            "Epoch 15:\n"
          ]
        },
        {
          "output_type": "stream",
          "name": "stderr",
          "text": [
            "100%|██████████| 16/16 [01:20<00:00,  5.01s/it]\n"
          ]
        },
        {
          "output_type": "stream",
          "name": "stdout",
          "text": [
            "\n",
            "😀 LOSS train: 5.234622687101364 valid 5.216154754161835\n",
            "Accuracy: 0.007834846\n",
            "F1: 0.00083180564\n",
            "F1 macro: 0.00076791615\n",
            "\n",
            "Epoch 16:\n"
          ]
        },
        {
          "output_type": "stream",
          "name": "stderr",
          "text": [
            "100%|██████████| 16/16 [01:19<00:00,  4.97s/it]\n"
          ]
        },
        {
          "output_type": "stream",
          "name": "stdout",
          "text": [
            "\n",
            "😀 LOSS train: 5.188582479953766 valid 5.15845850110054\n",
            "Accuracy: 0.014301703\n",
            "F1: 0.0013766596\n",
            "F1 macro: 0.0012911743\n",
            "\n",
            "Epoch 17:\n"
          ]
        },
        {
          "output_type": "stream",
          "name": "stderr",
          "text": [
            "100%|██████████| 16/16 [01:20<00:00,  5.00s/it]\n"
          ]
        },
        {
          "output_type": "stream",
          "name": "stdout",
          "text": [
            "\n",
            "😀 LOSS train: 5.201062917709351 valid 5.2018763422966\n",
            "Accuracy: 0.01318244\n",
            "F1: 0.002026738\n",
            "F1 macro: 0.0019301776\n",
            "\n",
            "Epoch 18:\n"
          ]
        },
        {
          "output_type": "stream",
          "name": "stderr",
          "text": [
            "100%|██████████| 16/16 [01:19<00:00,  4.98s/it]\n"
          ]
        },
        {
          "output_type": "stream",
          "name": "stdout",
          "text": [
            "\n",
            "😀 LOSS train: 5.188128858804703 valid 5.275968283414841\n",
            "Accuracy: 0.007586121\n",
            "F1: 0.0009565939\n",
            "F1 macro: 0.00088190084\n",
            "\n",
            "Epoch 19:\n"
          ]
        },
        {
          "output_type": "stream",
          "name": "stderr",
          "text": [
            "100%|██████████| 16/16 [01:20<00:00,  5.00s/it]\n"
          ]
        },
        {
          "output_type": "stream",
          "name": "stdout",
          "text": [
            "\n",
            "😀 LOSS train: 5.2652632892131805 valid 5.235482007265091\n",
            "Accuracy: 0.010073374\n",
            "F1: 0.0014144911\n",
            "F1 macro: 0.0015284976\n",
            "\n",
            "Epoch 20:\n"
          ]
        },
        {
          "output_type": "stream",
          "name": "stderr",
          "text": [
            "100%|██████████| 16/16 [01:20<00:00,  5.03s/it]\n"
          ]
        },
        {
          "output_type": "stream",
          "name": "stdout",
          "text": [
            "\n",
            "😀 LOSS train: 5.229870587587357 valid 5.225485950708389\n",
            "Accuracy: 0.010695187\n",
            "F1: 0.002051795\n",
            "F1 macro: 0.0019786302\n"
          ]
        },
        {
          "output_type": "display_data",
          "data": {
            "text/plain": [
              "<Figure size 640x480 with 1 Axes>"
            ],
            "image/png": "[encoded data removed]"
          },
          "metadata": {}
        },
        {
          "output_type": "display_data",
          "data": {
            "text/plain": [
              "<Figure size 640x480 with 1 Axes>"
            ],
            "image/png": "[encoded data removed]"
          },
          "metadata": {}
        }
      ]
    },
    {
      "cell_type": "code",
      "source": [
        "! cp alexnet_adam_16 /content/drive/MyDrive/saved_models"
      ],
      "metadata": {
        "id": "zZExNeUVoTM9"
      },
      "execution_count": 22,
      "outputs": []
    },
    {
      "cell_type": "code",
      "source": [
        "! cp alexnet_adasmooth_16 /content/drive/MyDrive/saved_models"
      ],
      "metadata": {
        "id": "MhCPsiyUobXp"
      },
      "execution_count": 23,
      "outputs": []
    }
  ]
}