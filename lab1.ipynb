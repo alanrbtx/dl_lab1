{
  "nbformat": 4,
  "nbformat_minor": 0,
  "metadata": {
    "colab": {
      "provenance": [],
      "machine_shape": "hm",
      "gpuType": "A100",
      "authorship_tag": "ABX9TyOdOXCqXaEIaxFO/DxSx7yJ",
      "include_colab_link": true
    },
    "kernelspec": {
      "name": "python3",
      "display_name": "Python 3"
    },
    "language_info": {
      "name": "python"
    },
    "accelerator": "GPU"
  },
  "cells": [
    {
      "cell_type": "markdown",
      "metadata": {
        "id": "view-in-github",
        "colab_type": "text"
      },
      "source": [
        "<a href=\"https://colab.research.google.com/github/alanrbtx/dl_lab1/blob/main/lab1.ipynb\" target=\"_parent\"><img src=\"https://colab.research.google.com/assets/colab-badge.svg\" alt=\"Open In Colab\"/></a>"
      ]
    },
    {
      "cell_type": "markdown",
      "source": [
        "# Download data"
      ],
      "metadata": {
        "id": "wl-L0wTZnkxB"
      }
    },
    {
      "cell_type": "code",
      "execution_count": 1,
      "metadata": {
        "colab": {
          "base_uri": "https://localhost:8080/"
        },
        "id": "ZTZuvWLDnWOQ",
        "outputId": "5cc369e6-760d-4dbb-b887-dfd14c7ed71e"
      },
      "outputs": [
        {
          "output_type": "stream",
          "name": "stdout",
          "text": [
            "Mounted at /content/drive\n"
          ]
        }
      ],
      "source": [
        "from google.colab import drive\n",
        "drive.mount('/content/drive')"
      ]
    },
    {
      "cell_type": "code",
      "source": [
        "# https://www.kaggle.com/discussions/general/74235\n",
        "! mkdir ~/.kaggle\n",
        "! cp /content/drive/MyDrive/kaggle.json ~/.kaggle/\n",
        "! chmod 600 ~/.kaggle/kaggle.json\n",
        "! kaggle datasets download -d jessicali9530/stanford-cars-dataset\n",
        "! unzip -q stanford-cars-dataset.zip -d stanford-cars-dataset"
      ],
      "metadata": {
        "colab": {
          "base_uri": "https://localhost:8080/"
        },
        "id": "hQnx5sSqnfHj",
        "outputId": "cdd26c69-5cf2-4657-9808-99dcb5ae12da"
      },
      "execution_count": 2,
      "outputs": [
        {
          "output_type": "stream",
          "name": "stdout",
          "text": [
            "Downloading stanford-cars-dataset.zip to /content\n",
            "100% 1.82G/1.82G [01:25<00:00, 20.6MB/s]\n",
            "100% 1.82G/1.82G [01:25<00:00, 22.8MB/s]\n"
          ]
        }
      ]
    },
    {
      "cell_type": "code",
      "source": [
        "! mkdir annotations"
      ],
      "metadata": {
        "id": "Lj7LgcpCnhPC"
      },
      "execution_count": 3,
      "outputs": []
    },
    {
      "cell_type": "code",
      "source": [
        "! wget -P annotations/ https://github.com/alanrbtx/dl_lab1/raw/main/annotations/cars_meta.mat\n",
        "! wget -P annotations/ https://github.com/alanrbtx/dl_lab1/raw/main/annotations/cars_train_annos.mat\n",
        "! wget -P annotations/ https://github.com/alanrbtx/dl_lab1/raw/main/annotations/cars_test_annos_withlabels_eval.mat"
      ],
      "metadata": {
        "colab": {
          "base_uri": "https://localhost:8080/"
        },
        "id": "46-SSUE4niZR",
        "outputId": "8bde0c2b-a2f6-4b97-9654-44cf05d49d52"
      },
      "execution_count": 4,
      "outputs": [
        {
          "output_type": "stream",
          "name": "stdout",
          "text": [
            "--2023-11-11 19:41:38--  https://github.com/alanrbtx/dl_lab1/raw/main/annotations/cars_meta.mat\n",
            "Resolving github.com (github.com)... 20.205.243.166\n",
            "Connecting to github.com (github.com)|20.205.243.166|:443... connected.\n",
            "HTTP request sent, awaiting response... 302 Found\n",
            "Location: https://raw.githubusercontent.com/alanrbtx/dl_lab1/main/annotations/cars_meta.mat [following]\n",
            "--2023-11-11 19:41:39--  https://raw.githubusercontent.com/alanrbtx/dl_lab1/main/annotations/cars_meta.mat\n",
            "Resolving raw.githubusercontent.com (raw.githubusercontent.com)... 185.199.110.133, 185.199.108.133, 185.199.111.133, ...\n",
            "Connecting to raw.githubusercontent.com (raw.githubusercontent.com)|185.199.110.133|:443... connected.\n",
            "HTTP request sent, awaiting response... 200 OK\n",
            "Length: 3177 (3.1K) [application/octet-stream]\n",
            "Saving to: ‘annotations/cars_meta.mat’\n",
            "\n",
            "cars_meta.mat       100%[===================>]   3.10K  --.-KB/s    in 0s      \n",
            "\n",
            "2023-11-11 19:41:39 (63.6 MB/s) - ‘annotations/cars_meta.mat’ saved [3177/3177]\n",
            "\n",
            "--2023-11-11 19:41:39--  https://github.com/alanrbtx/dl_lab1/raw/main/annotations/cars_train_annos.mat\n",
            "Resolving github.com (github.com)... 20.205.243.166\n",
            "Connecting to github.com (github.com)|20.205.243.166|:443... connected.\n",
            "HTTP request sent, awaiting response... 302 Found\n",
            "Location: https://raw.githubusercontent.com/alanrbtx/dl_lab1/main/annotations/cars_train_annos.mat [following]\n",
            "--2023-11-11 19:41:39--  https://raw.githubusercontent.com/alanrbtx/dl_lab1/main/annotations/cars_train_annos.mat\n",
            "Resolving raw.githubusercontent.com (raw.githubusercontent.com)... 185.199.108.133, 185.199.109.133, 185.199.110.133, ...\n",
            "Connecting to raw.githubusercontent.com (raw.githubusercontent.com)|185.199.108.133|:443... connected.\n",
            "HTTP request sent, awaiting response... 200 OK\n",
            "Length: 187916 (184K) [application/octet-stream]\n",
            "Saving to: ‘annotations/cars_train_annos.mat’\n",
            "\n",
            "cars_train_annos.ma 100%[===================>] 183.51K  --.-KB/s    in 0.005s  \n",
            "\n",
            "2023-11-11 19:41:40 (39.7 MB/s) - ‘annotations/cars_train_annos.mat’ saved [187916/187916]\n",
            "\n",
            "--2023-11-11 19:41:40--  https://github.com/alanrbtx/dl_lab1/raw/main/annotations/cars_test_annos_withlabels_eval.mat\n",
            "Resolving github.com (github.com)... 20.205.243.166\n",
            "Connecting to github.com (github.com)|20.205.243.166|:443... connected.\n",
            "HTTP request sent, awaiting response... 302 Found\n",
            "Location: https://raw.githubusercontent.com/alanrbtx/dl_lab1/main/annotations/cars_test_annos_withlabels_eval.mat [following]\n",
            "--2023-11-11 19:41:40--  https://raw.githubusercontent.com/alanrbtx/dl_lab1/main/annotations/cars_test_annos_withlabels_eval.mat\n",
            "Resolving raw.githubusercontent.com (raw.githubusercontent.com)... 185.199.110.133, 185.199.111.133, 185.199.109.133, ...\n",
            "Connecting to raw.githubusercontent.com (raw.githubusercontent.com)|185.199.110.133|:443... connected.\n",
            "HTTP request sent, awaiting response... 200 OK\n",
            "Length: 185758 (181K) [application/octet-stream]\n",
            "Saving to: ‘annotations/cars_test_annos_withlabels_eval.mat’\n",
            "\n",
            "cars_test_annos_wit 100%[===================>] 181.40K  --.-KB/s    in 0.004s  \n",
            "\n",
            "2023-11-11 19:41:40 (40.5 MB/s) - ‘annotations/cars_test_annos_withlabels_eval.mat’ saved [185758/185758]\n",
            "\n"
          ]
        }
      ]
    },
    {
      "cell_type": "markdown",
      "source": [
        "# Custom Dataset"
      ],
      "metadata": {
        "id": "hyaDUmiUnm7h"
      }
    },
    {
      "cell_type": "code",
      "source": [
        "from torch.utils.data import Dataset, DataLoader\n",
        "from typing import Callable\n",
        "from scipy.io import loadmat\n",
        "from PIL import Image\n",
        "import os\n",
        "class CarsDataset(Dataset):\n",
        "    def __init__(self, imgs_dir: str, annos_path: str, transforms: Callable = None):\n",
        "        self.imgs_paths = self.__load_imgs_paths(imgs_dir)\n",
        "        self.labels = self.__load_labels(annos_path)\n",
        "        self.transforms = transforms\n",
        "\n",
        "    def __load_imgs_paths(self, dir):\n",
        "        return [os.path.join(dir, filename) for filename in os.listdir(dir) if os.path.isfile(os.path.join(dir, filename))]\n",
        "\n",
        "    def __load_labels(self, path):\n",
        "        mat = loadmat(path)\n",
        "        labels = {}\n",
        "\n",
        "        for arr in mat['annotations'][0]:\n",
        "            filename, label = str(arr[5][0]), int(arr[4][0,0])-1\n",
        "            labels[filename] = label\n",
        "\n",
        "        return labels\n",
        "\n",
        "    def __len__(self):\n",
        "        return len(self.imgs_paths)\n",
        "\n",
        "    def __getitem__(self, index):\n",
        "        img_path = self.imgs_paths[index]\n",
        "        img = Image.open(img_path).convert('RGB')\n",
        "        label = self.labels[os.path.basename(img_path)]\n",
        "\n",
        "        if self.transforms:\n",
        "            img = self.transforms(img)\n",
        "\n",
        "        return img, label"
      ],
      "metadata": {
        "id": "ScwZdTKfnpR8"
      },
      "execution_count": 28,
      "outputs": []
    },
    {
      "cell_type": "code",
      "source": [
        "def load_class_names(path):\n",
        "    return [str(arr[0]) for arr in loadmat(path)['class_names'][0]]"
      ],
      "metadata": {
        "id": "hYzG7pn_nz3A"
      },
      "execution_count": 29,
      "outputs": []
    },
    {
      "cell_type": "code",
      "source": [
        "from torchvision.transforms import v2\n",
        "\n",
        "transforms = v2.Compose([\n",
        "    v2.Resize((227, 227)),\n",
        "    v2.ToTensor(),\n",
        "    v2.Normalize(mean=[0.485, 0.456, 0.406], std=[0.229, 0.224, 0.225]),\n",
        "])"
      ],
      "metadata": {
        "colab": {
          "base_uri": "https://localhost:8080/"
        },
        "id": "ZnX0OeITn7nM",
        "outputId": "43765a1e-6022-41a7-d164-f2816e8ee6b6"
      },
      "execution_count": 30,
      "outputs": [
        {
          "output_type": "stream",
          "name": "stderr",
          "text": [
            "/usr/local/lib/python3.10/dist-packages/torchvision/transforms/v2/_deprecated.py:43: UserWarning: The transform `ToTensor()` is deprecated and will be removed in a future release. Instead, please use `v2.Compose([v2.ToImage(), v2.ToDtype(torch.float32, scale=True)])`.\n",
            "  warnings.warn(\n"
          ]
        }
      ]
    },
    {
      "cell_type": "code",
      "source": [
        "train_dataset = CarsDataset(imgs_dir = './stanford-cars-dataset/cars_train/cars_train',\n",
        "                            annos_path = './annotations/cars_train_annos.mat',\n",
        "                            transforms = transforms)\n",
        "test_dataset = CarsDataset(imgs_dir = './stanford-cars-dataset/cars_test/cars_test',\n",
        "                           annos_path ='./annotations/cars_test_annos_withlabels_eval.mat',\n",
        "                           transforms = transforms)"
      ],
      "metadata": {
        "id": "r182_CgUoWUN"
      },
      "execution_count": 31,
      "outputs": []
    },
    {
      "cell_type": "code",
      "source": [
        "class_names = load_class_names('./annotations/cars_meta.mat')\n",
        "train_loader = DataLoader(dataset=train_dataset, batch_size=512, shuffle=True)\n",
        "test_loader = DataLoader(dataset=test_dataset, batch_size=512, shuffle=True)"
      ],
      "metadata": {
        "id": "IyFoYkdYoY9_"
      },
      "execution_count": 32,
      "outputs": []
    },
    {
      "cell_type": "markdown",
      "source": [
        "# Train and test loops"
      ],
      "metadata": {
        "id": "9l16LBGPpIUy"
      }
    },
    {
      "cell_type": "code",
      "source": [
        "import torch\n",
        "\n",
        "device = 'cuda' if torch.cuda.is_available() else 'cpu'"
      ],
      "metadata": {
        "id": "85DTAXfjpThD"
      },
      "execution_count": 22,
      "outputs": []
    },
    {
      "cell_type": "code",
      "source": [
        "from tqdm import tqdm\n",
        "\n",
        "def train_one_epoch(model: torch.nn.Module, loader: DataLoader, optimizer, loss_fn):\n",
        "    running_loss = 0.\n",
        "\n",
        "    # training mode\n",
        "    model.train(True)\n",
        "\n",
        "    for i, data in enumerate(tqdm(loader)):\n",
        "        inputs, labels = data\n",
        "\n",
        "        inputs = inputs.to(device)\n",
        "        labels = labels.to(device)\n",
        "\n",
        "        # обнуление градиентов\n",
        "        optimizer.zero_grad()\n",
        "\n",
        "        # предсказание\n",
        "        outputs = model(inputs)\n",
        "\n",
        "        # считаем ошибку и градиенты\n",
        "        loss = loss_fn(outputs, labels)\n",
        "        loss.backward()\n",
        "\n",
        "        # обновление весов\n",
        "        optimizer.step()\n",
        "\n",
        "        running_loss += loss.item()\n",
        "\n",
        "    return running_loss / len(loader)"
      ],
      "metadata": {
        "id": "aGJ37lSJpNmJ"
      },
      "execution_count": 23,
      "outputs": []
    },
    {
      "cell_type": "code",
      "source": [
        "! pip install torcheval"
      ],
      "metadata": {
        "colab": {
          "base_uri": "https://localhost:8080/"
        },
        "id": "HxFCawSHpQI_",
        "outputId": "f1961efb-ebec-400f-f831-4b8a71431930"
      },
      "execution_count": 24,
      "outputs": [
        {
          "output_type": "stream",
          "name": "stdout",
          "text": [
            "Requirement already satisfied: torcheval in /usr/local/lib/python3.10/dist-packages (0.0.7)\n",
            "Requirement already satisfied: typing-extensions in /usr/local/lib/python3.10/dist-packages (from torcheval) (4.5.0)\n"
          ]
        }
      ]
    },
    {
      "cell_type": "code",
      "source": [
        "from torcheval.metrics.functional import multiclass_f1_score, multiclass_accuracy\n",
        "\n",
        "def validate(model, loader, loss_fn):\n",
        "    running_vloss = 0.0\n",
        "    pred_labels_ids = torch.Tensor().type(torch.int64)\n",
        "    true_labels_ids = torch.Tensor().type(torch.int64)\n",
        "\n",
        "    # evaluation mode\n",
        "    model.eval()\n",
        "\n",
        "    # disable gradient computation\n",
        "    with torch.no_grad():\n",
        "        for i, vdata in enumerate(loader):\n",
        "            vinputs, vlabels = vdata\n",
        "\n",
        "            vinputs = vinputs.to(device)\n",
        "            vlabels = vlabels.to(device)\n",
        "\n",
        "            voutputs = model(vinputs)\n",
        "            vloss = loss_fn(voutputs, vlabels)\n",
        "\n",
        "            running_vloss += vloss.item()\n",
        "            true_labels_ids = torch.cat((true_labels_ids, vlabels.cpu().squeeze()))\n",
        "            pred_labels_ids = torch.cat((pred_labels_ids, voutputs.cpu().argmax(dim=-1, keepdim=False)))\n",
        "\n",
        "    # compute loss and metrics\n",
        "    avg_vloss = running_vloss / len(loader)\n",
        "    accuracy = multiclass_accuracy(pred_labels_ids, true_labels_ids)\n",
        "    f1 = multiclass_f1_score(pred_labels_ids, true_labels_ids, num_classes=len(class_names), average='weighted')\n",
        "    f1_macro = multiclass_f1_score(pred_labels_ids, true_labels_ids, num_classes=len(class_names), average='macro')\n",
        "\n",
        "    return avg_vloss, accuracy.detach().numpy(), f1.detach().numpy(), f1_macro.detach().numpy()"
      ],
      "metadata": {
        "id": "kpd5MX7apRm1"
      },
      "execution_count": 25,
      "outputs": []
    },
    {
      "cell_type": "code",
      "source": [
        "def train_loop(model, train_loader, test_loader, optimizer, loss_fn, prefix, epochs=10):\n",
        "    best_vloss = 1e10\n",
        "\n",
        "    history = {'Train loss': [], 'Valid loss': [], 'Accuracy': [], 'F1': [], 'F1 macro': []}\n",
        "\n",
        "    for epoch_number in range(epochs):\n",
        "        print(f'\\nEpoch {epoch_number+1}:')\n",
        "\n",
        "        avg_loss = train_one_epoch(model, train_loader, optimizer, loss_fn)\n",
        "        avg_vloss, accuracy, f1, f1_macro = validate(model, test_loader, loss_fn)\n",
        "\n",
        "        print('\\n\\U0001f600 LOSS train: {} valid {}'.format(avg_loss, avg_vloss))\n",
        "        print('Accuracy:', accuracy)\n",
        "        print('F1:', f1)\n",
        "        print('F1 macro:', f1_macro)\n",
        "\n",
        "        history['Train loss'].append(avg_loss)\n",
        "        history['Valid loss'].append(avg_vloss)\n",
        "        history['Accuracy'].append(accuracy)\n",
        "        history['F1'].append(f1)\n",
        "        history['F1 macro'].append(f1_macro)\n",
        "\n",
        "        # save best model\n",
        "        if avg_vloss < best_vloss:\n",
        "            best_vloss = avg_vloss\n",
        "            model_path = f'{prefix}_{epoch_number+1}'\n",
        "            torch.save(model.state_dict(), model_path)\n",
        "\n",
        "    return history"
      ],
      "metadata": {
        "id": "kB4knpQ0sFCf"
      },
      "execution_count": 26,
      "outputs": []
    },
    {
      "cell_type": "code",
      "source": [
        "import matplotlib.pyplot as plt\n",
        "\n",
        "def plot_history(history):\n",
        "    plt.plot(history['Train loss'])\n",
        "    plt.plot(history['Valid loss'])\n",
        "    plt.title('model loss')\n",
        "    plt.ylabel('loss')\n",
        "    plt.xlabel('epoch')\n",
        "    plt.legend(['train', 'val'], loc='upper left')\n",
        "    plt.show()\n",
        "\n",
        "    plt.plot(history['Accuracy'])\n",
        "    plt.plot(history['F1'])\n",
        "    plt.plot(history['F1 macro'])\n",
        "    plt.title('metrics')\n",
        "    plt.ylabel('metrics')\n",
        "    plt.xlabel('epoch')\n",
        "    plt.legend(['Accuracy', 'F1', 'F1 macro'], loc='upper left')\n",
        "    plt.show()"
      ],
      "metadata": {
        "id": "-6W98zSPppGy"
      },
      "execution_count": 27,
      "outputs": []
    },
    {
      "cell_type": "markdown",
      "source": [
        "# Model"
      ],
      "metadata": {
        "id": "PyodxomgqOAk"
      }
    },
    {
      "cell_type": "code",
      "source": [
        "import torch\n",
        "\n",
        "class AlexNet(torch.nn.Module):\n",
        "    def __init__(self, num_classes):\n",
        "        super().__init__()\n",
        "        self.conv_stack = torch.nn.Sequential(\n",
        "            torch.nn.Conv2d(3, 96, kernel_size=11, stride=4),\n",
        "            torch.nn.ReLU(inplace=True),\n",
        "            torch.nn.MaxPool2d(kernel_size=3, stride=2, padding=0, dilation=1, ceil_mode=False),\n",
        "            torch.nn.Conv2d(96, 256, 5, stride=1, padding=2),\n",
        "            torch.nn.MaxPool2d(kernel_size=3, stride=2, padding=0, dilation=1, ceil_mode=False),\n",
        "            torch.nn.Conv2d(256, 384, kernel_size=3, stride=1, padding=1),\n",
        "            torch.nn.ReLU(inplace=True),\n",
        "            torch.nn.Conv2d(384, 384, kernel_size=3, stride=1, padding=1),\n",
        "            torch.nn.ReLU(inplace=True),\n",
        "            torch.nn.Conv2d(384, 256, kernel_size=3, stride=1, padding=1),\n",
        "            torch.nn.ReLU(inplace=True),\n",
        "            torch.nn.MaxPool2d(kernel_size=3, stride=2, padding=0, dilation=1, ceil_mode=False)\n",
        "        )\n",
        "\n",
        "        self.flatten = torch.nn.Flatten()\n",
        "\n",
        "        self.classification_head = torch.nn.Sequential(\n",
        "            torch.nn.Dropout(p=0.5, inplace=False),\n",
        "            torch.nn.Linear(9216, 4096),\n",
        "            torch.nn.ReLU(inplace=True),\n",
        "            torch.nn.Dropout(p=0.5, inplace=False),\n",
        "            torch.nn.Linear(4096, 4096),\n",
        "            torch.nn.ReLU(inplace=True),\n",
        "            torch.nn.Linear(4096, num_classes)\n",
        "        )\n",
        "\n",
        "    def forward(self, x):\n",
        "        x = self.conv_stack(x)\n",
        "        x = self.flatten(x)\n",
        "        x = self.classification_head(x)\n",
        "        return x"
      ],
      "metadata": {
        "id": "VMFSVPcZqPRG"
      },
      "execution_count": 16,
      "outputs": []
    },
    {
      "cell_type": "markdown",
      "source": [
        "# Training"
      ],
      "metadata": {
        "id": "2_7vXt9eqhKz"
      }
    },
    {
      "cell_type": "code",
      "source": [
        "! pip install balanced-loss"
      ],
      "metadata": {
        "colab": {
          "base_uri": "https://localhost:8080/"
        },
        "id": "stzTmxBppziz",
        "outputId": "364bd9ad-ba96-4dfb-80ff-de7dbac82e0e"
      },
      "execution_count": 17,
      "outputs": [
        {
          "output_type": "stream",
          "name": "stdout",
          "text": [
            "Collecting balanced-loss\n",
            "  Downloading balanced_loss-0.1.0-py3-none-any.whl (5.2 kB)\n",
            "Requirement already satisfied: torch in /usr/local/lib/python3.10/dist-packages (from balanced-loss) (2.1.0+cu118)\n",
            "Requirement already satisfied: numpy in /usr/local/lib/python3.10/dist-packages (from balanced-loss) (1.23.5)\n",
            "Collecting click==8.0.4 (from balanced-loss)\n",
            "  Downloading click-8.0.4-py3-none-any.whl (97 kB)\n",
            "\u001b[?25l     \u001b[90m━━━━━━━━━━━━━━━━━━━━━━━━━━━━━━━━━━━━━━━━\u001b[0m \u001b[32m0.0/97.5 kB\u001b[0m \u001b[31m?\u001b[0m eta \u001b[36m-:--:--\u001b[0m\r\u001b[2K     \u001b[91m━━━━━━━━━━━━━━━━━━━━━━━━━━━━━━━━━━━━━\u001b[0m\u001b[91m╸\u001b[0m\u001b[90m━━\u001b[0m \u001b[32m92.2/97.5 kB\u001b[0m \u001b[31m2.7 MB/s\u001b[0m eta \u001b[36m0:00:01\u001b[0m\r\u001b[2K     \u001b[90m━━━━━━━━━━━━━━━━━━━━━━━━━━━━━━━━━━━━━━━━\u001b[0m \u001b[32m97.5/97.5 kB\u001b[0m \u001b[31m2.5 MB/s\u001b[0m eta \u001b[36m0:00:00\u001b[0m\n",
            "\u001b[?25hRequirement already satisfied: filelock in /usr/local/lib/python3.10/dist-packages (from torch->balanced-loss) (3.13.1)\n",
            "Requirement already satisfied: typing-extensions in /usr/local/lib/python3.10/dist-packages (from torch->balanced-loss) (4.5.0)\n",
            "Requirement already satisfied: sympy in /usr/local/lib/python3.10/dist-packages (from torch->balanced-loss) (1.12)\n",
            "Requirement already satisfied: networkx in /usr/local/lib/python3.10/dist-packages (from torch->balanced-loss) (3.2.1)\n",
            "Requirement already satisfied: jinja2 in /usr/local/lib/python3.10/dist-packages (from torch->balanced-loss) (3.1.2)\n",
            "Requirement already satisfied: fsspec in /usr/local/lib/python3.10/dist-packages (from torch->balanced-loss) (2023.6.0)\n",
            "Requirement already satisfied: triton==2.1.0 in /usr/local/lib/python3.10/dist-packages (from torch->balanced-loss) (2.1.0)\n",
            "Requirement already satisfied: MarkupSafe>=2.0 in /usr/local/lib/python3.10/dist-packages (from jinja2->torch->balanced-loss) (2.1.3)\n",
            "Requirement already satisfied: mpmath>=0.19 in /usr/local/lib/python3.10/dist-packages (from sympy->torch->balanced-loss) (1.3.0)\n",
            "Installing collected packages: click, balanced-loss\n",
            "  Attempting uninstall: click\n",
            "    Found existing installation: click 8.1.7\n",
            "    Uninstalling click-8.1.7:\n",
            "      Successfully uninstalled click-8.1.7\n",
            "\u001b[31mERROR: pip's dependency resolver does not currently take into account all the packages that are installed. This behaviour is the source of the following dependency conflicts.\n",
            "lida 0.0.10 requires fastapi, which is not installed.\n",
            "lida 0.0.10 requires kaleido, which is not installed.\n",
            "lida 0.0.10 requires python-multipart, which is not installed.\n",
            "lida 0.0.10 requires uvicorn, which is not installed.\u001b[0m\u001b[31m\n",
            "\u001b[0mSuccessfully installed balanced-loss-0.1.0 click-8.0.4\n"
          ]
        }
      ]
    },
    {
      "cell_type": "code",
      "source": [
        "import pandas as pd\n",
        "\n",
        "samples_per_class = pd.Series(train_dataset.labels).value_counts().sort_index().tolist()"
      ],
      "metadata": {
        "id": "rbRak7krrLXr"
      },
      "execution_count": 33,
      "outputs": []
    },
    {
      "cell_type": "code",
      "source": [
        "from balanced_loss import Loss\n",
        "\n",
        "model = AlexNet(len(class_names)).to(device)\n",
        "# balanced_ce = Loss(loss_type=\"cross_entropy\",\n",
        "#                    samples_per_class=samples_per_class,\n",
        "#                    class_balanced=True)\n",
        "ce = torch.nn.CrossEntropyLoss()\n",
        "adam = torch.optim.Adam(model.parameters(), lr=0.0005)\n",
        "history = train_loop(model, train_loader, test_loader, adam, ce, 'alexnet', 20)\n",
        "plot_history(history)"
      ],
      "metadata": {
        "colab": {
          "base_uri": "https://localhost:8080/",
          "height": 1000
        },
        "id": "42lRpvN8qgKE",
        "outputId": "92f191e3-41ca-4115-b057-3be305d414dd"
      },
      "execution_count": 34,
      "outputs": [
        {
          "output_type": "stream",
          "name": "stdout",
          "text": [
            "\n",
            "Epoch 1:\n"
          ]
        },
        {
          "output_type": "stream",
          "name": "stderr",
          "text": [
            "100%|██████████| 16/16 [01:00<00:00,  3.77s/it]\n"
          ]
        },
        {
          "output_type": "stream",
          "name": "stdout",
          "text": [
            "\n",
            "😀 LOSS train: 5.280332267284393 valid 5.276725679636002\n",
            "Accuracy: 0.0057206815\n",
            "F1: 6.508009e-05\n",
            "F1 macro: 5.8042257e-05\n",
            "\n",
            "Epoch 2:\n"
          ]
        },
        {
          "output_type": "stream",
          "name": "stderr",
          "text": [
            "100%|██████████| 16/16 [01:00<00:00,  3.77s/it]\n"
          ]
        },
        {
          "output_type": "stream",
          "name": "stdout",
          "text": [
            "\n",
            "😀 LOSS train: 5.277740776538849 valid 5.2759696543216705\n",
            "Accuracy: 0.0084566595\n",
            "F1: 0.00014183077\n",
            "F1 macro: 8.556881e-05\n",
            "\n",
            "Epoch 3:\n"
          ]
        },
        {
          "output_type": "stream",
          "name": "stderr",
          "text": [
            "100%|██████████| 16/16 [01:00<00:00,  3.77s/it]\n"
          ]
        },
        {
          "output_type": "stream",
          "name": "stdout",
          "text": [
            "\n",
            "😀 LOSS train: 5.26857316493988 valid 5.218382835388184\n",
            "Accuracy: 0.011565725\n",
            "F1: 0.00047808734\n",
            "F1 macro: 0.0004081789\n",
            "\n",
            "Epoch 4:\n"
          ]
        },
        {
          "output_type": "stream",
          "name": "stderr",
          "text": [
            "100%|██████████| 16/16 [01:00<00:00,  3.77s/it]\n"
          ]
        },
        {
          "output_type": "stream",
          "name": "stdout",
          "text": [
            "\n",
            "😀 LOSS train: 5.214040279388428 valid 5.185589581727982\n",
            "Accuracy: 0.011938813\n",
            "F1: 0.00060472806\n",
            "F1 macro: 0.00051119353\n",
            "\n",
            "Epoch 5:\n"
          ]
        },
        {
          "output_type": "stream",
          "name": "stderr",
          "text": [
            "100%|██████████| 16/16 [01:00<00:00,  3.76s/it]\n"
          ]
        },
        {
          "output_type": "stream",
          "name": "stdout",
          "text": [
            "\n",
            "😀 LOSS train: 5.170330464839935 valid 5.159267961978912\n",
            "Accuracy: 0.0125606265\n",
            "F1: 0.0004626342\n",
            "F1 macro: 0.0003803499\n",
            "\n",
            "Epoch 6:\n"
          ]
        },
        {
          "output_type": "stream",
          "name": "stderr",
          "text": [
            "100%|██████████| 16/16 [01:00<00:00,  3.78s/it]\n"
          ]
        },
        {
          "output_type": "stream",
          "name": "stdout",
          "text": [
            "\n",
            "😀 LOSS train: 5.14306703209877 valid 5.131403684616089\n",
            "Accuracy: 0.014177341\n",
            "F1: 0.001317276\n",
            "F1 macro: 0.0011769248\n",
            "\n",
            "Epoch 7:\n"
          ]
        },
        {
          "output_type": "stream",
          "name": "stderr",
          "text": [
            "100%|██████████| 16/16 [01:00<00:00,  3.76s/it]\n"
          ]
        },
        {
          "output_type": "stream",
          "name": "stdout",
          "text": [
            "\n",
            "😀 LOSS train: 5.113386750221252 valid 5.122477889060974\n",
            "Accuracy: 0.0139286155\n",
            "F1: 0.0020311554\n",
            "F1 macro: 0.0019160513\n",
            "\n",
            "Epoch 8:\n"
          ]
        },
        {
          "output_type": "stream",
          "name": "stderr",
          "text": [
            "100%|██████████| 16/16 [01:00<00:00,  3.78s/it]\n"
          ]
        },
        {
          "output_type": "stream",
          "name": "stdout",
          "text": [
            "\n",
            "😀 LOSS train: 5.100814938545227 valid 5.109651058912277\n",
            "Accuracy: 0.012809352\n",
            "F1: 0.0021922383\n",
            "F1 macro: 0.0020581367\n",
            "\n",
            "Epoch 9:\n"
          ]
        },
        {
          "output_type": "stream",
          "name": "stderr",
          "text": [
            "100%|██████████| 16/16 [01:00<00:00,  3.78s/it]\n"
          ]
        },
        {
          "output_type": "stream",
          "name": "stdout",
          "text": [
            "\n",
            "😀 LOSS train: 5.082237333059311 valid 5.112556457519531\n",
            "Accuracy: 0.014426067\n",
            "F1: 0.0034963978\n",
            "F1 macro: 0.0033222395\n",
            "\n",
            "Epoch 10:\n"
          ]
        },
        {
          "output_type": "stream",
          "name": "stderr",
          "text": [
            "100%|██████████| 16/16 [01:00<00:00,  3.76s/it]\n"
          ]
        },
        {
          "output_type": "stream",
          "name": "stdout",
          "text": [
            "\n",
            "😀 LOSS train: 5.057146310806274 valid 5.100285738706589\n",
            "Accuracy: 0.014923517\n",
            "F1: 0.0030601262\n",
            "F1 macro: 0.0028821337\n",
            "\n",
            "Epoch 11:\n"
          ]
        },
        {
          "output_type": "stream",
          "name": "stderr",
          "text": [
            "100%|██████████| 16/16 [01:00<00:00,  3.76s/it]\n"
          ]
        },
        {
          "output_type": "stream",
          "name": "stdout",
          "text": [
            "\n",
            "😀 LOSS train: 5.030057519674301 valid 5.100136458873749\n",
            "Accuracy: 0.015669692\n",
            "F1: 0.0051874137\n",
            "F1 macro: 0.0051192977\n",
            "\n",
            "Epoch 12:\n"
          ]
        },
        {
          "output_type": "stream",
          "name": "stderr",
          "text": [
            "100%|██████████| 16/16 [01:00<00:00,  3.76s/it]\n"
          ]
        },
        {
          "output_type": "stream",
          "name": "stdout",
          "text": [
            "\n",
            "😀 LOSS train: 4.985563695430756 valid 5.088286101818085\n",
            "Accuracy: 0.024126353\n",
            "F1: 0.01126262\n",
            "F1 macro: 0.011344305\n",
            "\n",
            "Epoch 13:\n"
          ]
        },
        {
          "output_type": "stream",
          "name": "stderr",
          "text": [
            "100%|██████████| 16/16 [01:00<00:00,  3.77s/it]\n"
          ]
        },
        {
          "output_type": "stream",
          "name": "stdout",
          "text": [
            "\n",
            "😀 LOSS train: 4.9292672872543335 valid 5.086665749549866\n",
            "Accuracy: 0.019649297\n",
            "F1: 0.010895676\n",
            "F1 macro: 0.010931718\n",
            "\n",
            "Epoch 14:\n"
          ]
        },
        {
          "output_type": "stream",
          "name": "stderr",
          "text": [
            "100%|██████████| 16/16 [01:00<00:00,  3.77s/it]\n"
          ]
        },
        {
          "output_type": "stream",
          "name": "stdout",
          "text": [
            "\n",
            "😀 LOSS train: 4.8561020493507385 valid 5.074541002511978\n",
            "Accuracy: 0.027608506\n",
            "F1: 0.015047825\n",
            "F1 macro: 0.0153339915\n",
            "\n",
            "Epoch 15:\n"
          ]
        },
        {
          "output_type": "stream",
          "name": "stderr",
          "text": [
            "100%|██████████| 16/16 [01:00<00:00,  3.79s/it]\n"
          ]
        },
        {
          "output_type": "stream",
          "name": "stdout",
          "text": [
            "\n",
            "😀 LOSS train: 4.776316523551941 valid 5.139794081449509\n",
            "Accuracy: 0.02313145\n",
            "F1: 0.018601866\n",
            "F1 macro: 0.018539768\n",
            "\n",
            "Epoch 16:\n"
          ]
        },
        {
          "output_type": "stream",
          "name": "stderr",
          "text": [
            "100%|██████████| 16/16 [01:00<00:00,  3.79s/it]\n"
          ]
        },
        {
          "output_type": "stream",
          "name": "stdout",
          "text": [
            "\n",
            "😀 LOSS train: 4.683424711227417 valid 5.174530565738678\n",
            "Accuracy: 0.032583013\n",
            "F1: 0.023883663\n",
            "F1 macro: 0.024156364\n",
            "\n",
            "Epoch 17:\n"
          ]
        },
        {
          "output_type": "stream",
          "name": "stderr",
          "text": [
            "100%|██████████| 16/16 [01:00<00:00,  3.77s/it]\n"
          ]
        },
        {
          "output_type": "stream",
          "name": "stdout",
          "text": [
            "\n",
            "😀 LOSS train: 4.5357299745082855 valid 5.206059962511063\n",
            "Accuracy: 0.030593209\n",
            "F1: 0.023973003\n",
            "F1 macro: 0.024533685\n",
            "\n",
            "Epoch 18:\n"
          ]
        },
        {
          "output_type": "stream",
          "name": "stderr",
          "text": [
            "100%|██████████| 16/16 [01:00<00:00,  3.77s/it]\n"
          ]
        },
        {
          "output_type": "stream",
          "name": "stdout",
          "text": [
            "\n",
            "😀 LOSS train: 4.329489916563034 valid 5.315490782260895\n",
            "Accuracy: 0.034075364\n",
            "F1: 0.025463626\n",
            "F1 macro: 0.025630742\n",
            "\n",
            "Epoch 19:\n"
          ]
        },
        {
          "output_type": "stream",
          "name": "stderr",
          "text": [
            "100%|██████████| 16/16 [01:00<00:00,  3.80s/it]\n"
          ]
        },
        {
          "output_type": "stream",
          "name": "stdout",
          "text": [
            "\n",
            "😀 LOSS train: 4.091868624091148 valid 5.409950941801071\n",
            "Accuracy: 0.03531899\n",
            "F1: 0.02750602\n",
            "F1 macro: 0.02824787\n",
            "\n",
            "Epoch 20:\n"
          ]
        },
        {
          "output_type": "stream",
          "name": "stderr",
          "text": [
            "100%|██████████| 16/16 [01:00<00:00,  3.78s/it]\n"
          ]
        },
        {
          "output_type": "stream",
          "name": "stdout",
          "text": [
            "\n",
            "😀 LOSS train: 3.8370350301265717 valid 5.74139529466629\n",
            "Accuracy: 0.035940804\n",
            "F1: 0.031524252\n",
            "F1 macro: 0.032265354\n"
          ]
        },
        {
          "output_type": "display_data",
          "data": {
            "text/plain": [
              "<Figure size 640x480 with 1 Axes>"
            ],
            "image/png": "[encoded data removed]"
          },
          "metadata": {}
        },
        {
          "output_type": "display_data",
          "data": {
            "text/plain": [
              "<Figure size 640x480 with 1 Axes>"
            ],
            "image/png": "[encoded data removed]"
          },
          "metadata": {}
        }
      ]
    }
  ]
}